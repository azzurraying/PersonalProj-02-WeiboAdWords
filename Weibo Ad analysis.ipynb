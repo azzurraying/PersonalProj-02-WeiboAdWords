{
 "cells": [
  {
   "cell_type": "code",
   "execution_count": 2,
   "metadata": {
    "collapsed": true
   },
   "outputs": [],
   "source": [
    "# After comment data has been collected\n",
    "# Next: import posts\n",
    "# Arrange into the following table:\n",
    "# postID, createdAt, userID, isRetweet, likeNo, commentNo, repostNo, comments\n",
    "# Remove: 0 comments; isRetweet Posts\n",
    "# Add 1 column: noAdWords\n",
    "# Plot the following graphs:\n",
    "# 1. Cluster repostNo\n",
    "# 2. repostNo vs comment No\n",
    "# 3. Cluster noAdWords\n",
    "# 4. noAdWords vs repost No?"
   ]
  },
  {
   "cell_type": "markdown",
   "metadata": {},
   "source": [
    "# Import libraries"
   ]
  },
  {
   "cell_type": "code",
   "execution_count": 3,
   "metadata": {
    "collapsed": true
   },
   "outputs": [],
   "source": [
    "import pickle\n",
    "import pandas as pd\n",
    "import matplotlib.pyplot as plt\n",
    "import numpy as np\n",
    "from sklearn.cluster import KMeans\n",
    "from scipy.spatial.distance import cdist, pdist"
   ]
  },
  {
   "cell_type": "code",
   "execution_count": 4,
   "metadata": {
    "collapsed": false
   },
   "outputs": [],
   "source": [
    "postInfo = pickle.load(open('postInfo.p', 'rb'))\n",
    "cmtInfo = pickle.load(open('cmtInfo.p', 'rb'))"
   ]
  },
  {
   "cell_type": "code",
   "execution_count": 5,
   "metadata": {
    "collapsed": false
   },
   "outputs": [
    {
     "name": "stdout",
     "output_type": "stream",
     "text": [
      "7 1428 1428\n"
     ]
    }
   ],
   "source": [
    "print len(postInfo), len(cmtInfo), len(postInfo.values()[0])"
   ]
  },
  {
   "cell_type": "code",
   "execution_count": 6,
   "metadata": {
    "collapsed": true
   },
   "outputs": [],
   "source": [
    "cmtData = pd.DataFrame(postInfo.values()).transpose()\n",
    "cmtData.columns = postInfo.keys()"
   ]
  },
  {
   "cell_type": "markdown",
   "metadata": {},
   "source": [
    "# Create \"adword' feature"
   ]
  },
  {
   "cell_type": "code",
   "execution_count": 116,
   "metadata": {
    "collapsed": false
   },
   "outputs": [],
   "source": [
    "\n",
    "adWord1 = '广告|软广|软文|文案|写手|营销|炒作|摆拍|牌子|品牌|商家'\n",
    "adWord1 = adWord1.decode('utf8')\n",
    "\n",
    "adWord2 = ['广告', '软广', '软文', '文案', '写手', '营销', '炒作', '摆拍', '牌子', '品牌', '商家']\n",
    "for k in adWord2:\n",
    "    k = k.decode('utf8')\n",
    "\n",
    "adWordNo2 = []\n",
    "for i in cmtInfo:\n",
    "    if isinstance(i, int):\n",
    "        adWordNo2.append('Empty post')\n",
    "    if isinstance(i, list):\n",
    "        counter = 0\n",
    "        for j in i:\n",
    "            for k in adWord2:\n",
    "                k = k.decode('utf8')\n",
    "                if unicode(k) in j:\n",
    "                    counter += 1\n",
    "        adWordNo2.append(counter)"
   ]
  },
  {
   "cell_type": "code",
   "execution_count": 8,
   "metadata": {
    "collapsed": false
   },
   "outputs": [],
   "source": [
    "cmtData['adWordNo'] = adWordNo2"
   ]
  },
  {
   "cell_type": "code",
   "execution_count": 143,
   "metadata": {
    "collapsed": false
   },
   "outputs": [],
   "source": [
    "cmtLength = []\n",
    "for i in cmtInfo:\n",
    "    counter = 0\n",
    "    if isinstance(i, int):\n",
    "        cmtLength.append('Empty post')\n",
    "    if isinstance(i, list):\n",
    "        if len(i) == 0:\n",
    "            cmtLength.append(0)\n",
    "        else:\n",
    "            for j in i:\n",
    "                counter+=len(j)\n",
    "            cmtLength.append(counter/float(len(i)))\n",
    "#     print cmtLength\n"
   ]
  },
  {
   "cell_type": "code",
   "execution_count": 144,
   "metadata": {
    "collapsed": true
   },
   "outputs": [],
   "source": [
    "cmtData['commentAveLength'] = cmtLength"
   ]
  },
  {
   "cell_type": "code",
   "execution_count": 145,
   "metadata": {
    "collapsed": false
   },
   "outputs": [
    {
     "name": "stdout",
     "output_type": "stream",
     "text": [
      "(1428, 9)\n"
     ]
    }
   ],
   "source": [
    "print cmtData.shape"
   ]
  },
  {
   "cell_type": "code",
   "execution_count": 146,
   "metadata": {
    "collapsed": false
   },
   "outputs": [
    {
     "data": {
      "text/html": [
       "<div>\n",
       "<table border=\"1\" class=\"dataframe\">\n",
       "  <thead>\n",
       "    <tr style=\"text-align: right;\">\n",
       "      <th></th>\n",
       "      <th>postID</th>\n",
       "      <th>repostNo</th>\n",
       "      <th>userID</th>\n",
       "      <th>likeNo</th>\n",
       "      <th>commentNo</th>\n",
       "      <th>isRetweet</th>\n",
       "      <th>createdAt</th>\n",
       "      <th>adWordNo</th>\n",
       "      <th>commentAveLength</th>\n",
       "    </tr>\n",
       "  </thead>\n",
       "  <tbody>\n",
       "    <tr>\n",
       "      <th>0</th>\n",
       "      <td>3967733345110131</td>\n",
       "      <td>3638</td>\n",
       "      <td>3229125510</td>\n",
       "      <td>677</td>\n",
       "      <td>430</td>\n",
       "      <td>False</td>\n",
       "      <td>Sun Apr 24 10:26:48 +0800 2016</td>\n",
       "      <td>Empty post</td>\n",
       "      <td>Empty post</td>\n",
       "    </tr>\n",
       "    <tr>\n",
       "      <th>1</th>\n",
       "      <td>3967732766305727</td>\n",
       "      <td>238</td>\n",
       "      <td>1098618600</td>\n",
       "      <td>1233</td>\n",
       "      <td>168</td>\n",
       "      <td>False</td>\n",
       "      <td>Sun Apr 24 10:24:31 +0800 2016</td>\n",
       "      <td>0</td>\n",
       "      <td>19.0838</td>\n",
       "    </tr>\n",
       "    <tr>\n",
       "      <th>2</th>\n",
       "      <td>3967730811759574</td>\n",
       "      <td>634</td>\n",
       "      <td>2709577332</td>\n",
       "      <td>551</td>\n",
       "      <td>81</td>\n",
       "      <td>False</td>\n",
       "      <td>Sun Apr 24 10:16:45 +0800 2016</td>\n",
       "      <td>Empty post</td>\n",
       "      <td>Empty post</td>\n",
       "    </tr>\n",
       "    <tr>\n",
       "      <th>3</th>\n",
       "      <td>3967730728486176</td>\n",
       "      <td>52</td>\n",
       "      <td>1098618600</td>\n",
       "      <td>1337</td>\n",
       "      <td>562</td>\n",
       "      <td>False</td>\n",
       "      <td>Sun Apr 24 10:16:25 +0800 2016</td>\n",
       "      <td>0</td>\n",
       "      <td>0</td>\n",
       "    </tr>\n",
       "    <tr>\n",
       "      <th>4</th>\n",
       "      <td>3967730358857401</td>\n",
       "      <td>30</td>\n",
       "      <td>2903316485</td>\n",
       "      <td>319</td>\n",
       "      <td>22</td>\n",
       "      <td>False</td>\n",
       "      <td>Sun Apr 24 10:14:57 +0800 2016</td>\n",
       "      <td>0</td>\n",
       "      <td>18.2273</td>\n",
       "    </tr>\n",
       "  </tbody>\n",
       "</table>\n",
       "</div>"
      ],
      "text/plain": [
       "             postID repostNo      userID likeNo commentNo isRetweet  \\\n",
       "0  3967733345110131     3638  3229125510    677       430     False   \n",
       "1  3967732766305727      238  1098618600   1233       168     False   \n",
       "2  3967730811759574      634  2709577332    551        81     False   \n",
       "3  3967730728486176       52  1098618600   1337       562     False   \n",
       "4  3967730358857401       30  2903316485    319        22     False   \n",
       "\n",
       "                        createdAt    adWordNo commentAveLength  \n",
       "0  Sun Apr 24 10:26:48 +0800 2016  Empty post       Empty post  \n",
       "1  Sun Apr 24 10:24:31 +0800 2016           0          19.0838  \n",
       "2  Sun Apr 24 10:16:45 +0800 2016  Empty post       Empty post  \n",
       "3  Sun Apr 24 10:16:25 +0800 2016           0                0  \n",
       "4  Sun Apr 24 10:14:57 +0800 2016           0          18.2273  "
      ]
     },
     "execution_count": 146,
     "metadata": {},
     "output_type": "execute_result"
    }
   ],
   "source": [
    "cmtData.head()"
   ]
  },
  {
   "cell_type": "markdown",
   "metadata": {},
   "source": [
    "There are 387 \"Empty post\"s - lots of API calls that were refused. For these posts we don't have the comment data, and therefore cannot be included."
   ]
  },
  {
   "cell_type": "code",
   "execution_count": 11,
   "metadata": {
    "collapsed": false,
    "scrolled": true
   },
   "outputs": [
    {
     "name": "stdout",
     "output_type": "stream",
     "text": [
      "387\n"
     ]
    }
   ],
   "source": [
    "print sum(i == 'Empty post' for i in adWordNo2)"
   ]
  },
  {
   "cell_type": "code",
   "execution_count": 147,
   "metadata": {
    "collapsed": false,
    "scrolled": false
   },
   "outputs": [
    {
     "data": {
      "text/plain": [
       "(1041, 9)"
      ]
     },
     "execution_count": 147,
     "metadata": {},
     "output_type": "execute_result"
    }
   ],
   "source": [
    "cmtData1 = cmtData[cmtData.adWordNo != 'Empty post']\n",
    "cmtData1.shape"
   ]
  },
  {
   "cell_type": "code",
   "execution_count": 148,
   "metadata": {
    "collapsed": false,
    "scrolled": true
   },
   "outputs": [
    {
     "name": "stderr",
     "output_type": "stream",
     "text": [
      "/Users/yingjiang/miniconda2/lib/python2.7/site-packages/ipykernel/__main__.py:8: SettingWithCopyWarning: \n",
      "A value is trying to be set on a copy of a slice from a DataFrame.\n",
      "Try using .loc[row_indexer,col_indexer] = value instead\n",
      "\n",
      "See the caveats in the documentation: http://pandas.pydata.org/pandas-docs/stable/indexing.html#indexing-view-versus-copy\n"
     ]
    }
   ],
   "source": [
    "adWordRatio = []\n",
    "for i, j in zip(cmtData1.adWordNo, cmtData1.commentNo):\n",
    "    if j != 0:\n",
    "        adWordRatio.append(float(i)/j)\n",
    "    else:\n",
    "        adWordRatio.append(0)\n",
    "        \n",
    "cmtData1['adWordRatio'] = adWordRatio"
   ]
  },
  {
   "cell_type": "code",
   "execution_count": 149,
   "metadata": {
    "collapsed": false,
    "scrolled": false
   },
   "outputs": [
    {
     "data": {
      "text/html": [
       "<div>\n",
       "<table border=\"1\" class=\"dataframe\">\n",
       "  <thead>\n",
       "    <tr style=\"text-align: right;\">\n",
       "      <th></th>\n",
       "      <th>postID</th>\n",
       "      <th>repostNo</th>\n",
       "      <th>userID</th>\n",
       "      <th>likeNo</th>\n",
       "      <th>commentNo</th>\n",
       "      <th>isRetweet</th>\n",
       "      <th>createdAt</th>\n",
       "      <th>adWordNo</th>\n",
       "      <th>commentAveLength</th>\n",
       "      <th>adWordRatio</th>\n",
       "    </tr>\n",
       "  </thead>\n",
       "  <tbody>\n",
       "    <tr>\n",
       "      <th>1</th>\n",
       "      <td>3967732766305727</td>\n",
       "      <td>238</td>\n",
       "      <td>1098618600</td>\n",
       "      <td>1233</td>\n",
       "      <td>168</td>\n",
       "      <td>False</td>\n",
       "      <td>Sun Apr 24 10:24:31 +0800 2016</td>\n",
       "      <td>0</td>\n",
       "      <td>19.0838</td>\n",
       "      <td>0.00000</td>\n",
       "    </tr>\n",
       "    <tr>\n",
       "      <th>3</th>\n",
       "      <td>3967730728486176</td>\n",
       "      <td>52</td>\n",
       "      <td>1098618600</td>\n",
       "      <td>1337</td>\n",
       "      <td>562</td>\n",
       "      <td>False</td>\n",
       "      <td>Sun Apr 24 10:16:25 +0800 2016</td>\n",
       "      <td>0</td>\n",
       "      <td>0</td>\n",
       "      <td>0.00000</td>\n",
       "    </tr>\n",
       "    <tr>\n",
       "      <th>4</th>\n",
       "      <td>3967730358857401</td>\n",
       "      <td>30</td>\n",
       "      <td>2903316485</td>\n",
       "      <td>319</td>\n",
       "      <td>22</td>\n",
       "      <td>False</td>\n",
       "      <td>Sun Apr 24 10:14:57 +0800 2016</td>\n",
       "      <td>0</td>\n",
       "      <td>18.2273</td>\n",
       "      <td>0.00000</td>\n",
       "    </tr>\n",
       "    <tr>\n",
       "      <th>6</th>\n",
       "      <td>3967729616806627</td>\n",
       "      <td>11</td>\n",
       "      <td>1098618600</td>\n",
       "      <td>515</td>\n",
       "      <td>177</td>\n",
       "      <td>False</td>\n",
       "      <td>Sun Apr 24 10:12:00 +0800 2016</td>\n",
       "      <td>0</td>\n",
       "      <td>0</td>\n",
       "      <td>0.00000</td>\n",
       "    </tr>\n",
       "    <tr>\n",
       "      <th>7</th>\n",
       "      <td>3967728744064671</td>\n",
       "      <td>17248</td>\n",
       "      <td>1764222885</td>\n",
       "      <td>8769</td>\n",
       "      <td>4356</td>\n",
       "      <td>False</td>\n",
       "      <td>Sun Apr 24 10:08:31 +0800 2016</td>\n",
       "      <td>1</td>\n",
       "      <td>26.75</td>\n",
       "      <td>0.00023</td>\n",
       "    </tr>\n",
       "  </tbody>\n",
       "</table>\n",
       "</div>"
      ],
      "text/plain": [
       "             postID repostNo      userID likeNo commentNo isRetweet  \\\n",
       "1  3967732766305727      238  1098618600   1233       168     False   \n",
       "3  3967730728486176       52  1098618600   1337       562     False   \n",
       "4  3967730358857401       30  2903316485    319        22     False   \n",
       "6  3967729616806627       11  1098618600    515       177     False   \n",
       "7  3967728744064671    17248  1764222885   8769      4356     False   \n",
       "\n",
       "                        createdAt adWordNo commentAveLength  adWordRatio  \n",
       "1  Sun Apr 24 10:24:31 +0800 2016        0          19.0838      0.00000  \n",
       "3  Sun Apr 24 10:16:25 +0800 2016        0                0      0.00000  \n",
       "4  Sun Apr 24 10:14:57 +0800 2016        0          18.2273      0.00000  \n",
       "6  Sun Apr 24 10:12:00 +0800 2016        0                0      0.00000  \n",
       "7  Sun Apr 24 10:08:31 +0800 2016        1            26.75      0.00023  "
      ]
     },
     "execution_count": 149,
     "metadata": {},
     "output_type": "execute_result"
    }
   ],
   "source": [
    "cmtData1.head()"
   ]
  },
  {
   "cell_type": "code",
   "execution_count": 150,
   "metadata": {
    "collapsed": false
   },
   "outputs": [
    {
     "name": "stdout",
     "output_type": "stream",
     "text": [
      "8\n",
      "0.00768491834774\n",
      "89\n",
      "0.0854947166186\n"
     ]
    }
   ],
   "source": [
    "print sum(i > 10 for i in cmtData1.adWordNo)\n",
    "print sum(i > 10 for i in cmtData1.adWordNo) / float(cmtData1.shape[0])\n",
    "print sum(i > 0 for i in cmtData1.adWordNo)\n",
    "print sum(i > 0 for i in cmtData1.adWordNo) / float(cmtData1.shape[0])"
   ]
  },
  {
   "cell_type": "code",
   "execution_count": 97,
   "metadata": {
    "collapsed": false
   },
   "outputs": [
    {
     "data": {
      "text/plain": [
       "count    1041.000000\n",
       "mean        0.001924\n",
       "std         0.015436\n",
       "min         0.000000\n",
       "25%         0.000000\n",
       "50%         0.000000\n",
       "75%         0.000000\n",
       "max         0.256098\n",
       "Name: adWordRatio, dtype: float64"
      ]
     },
     "execution_count": 97,
     "metadata": {},
     "output_type": "execute_result"
    }
   ],
   "source": [
    "cmtData1.adWordRatio.describe()"
   ]
  },
  {
   "cell_type": "code",
   "execution_count": 17,
   "metadata": {
    "collapsed": false
   },
   "outputs": [
    {
     "data": {
      "text/plain": [
       "0"
      ]
     },
     "execution_count": 17,
     "metadata": {},
     "output_type": "execute_result"
    }
   ],
   "source": [
    "sum(cmtData1.isRetweet == True)"
   ]
  },
  {
   "cell_type": "markdown",
   "metadata": {},
   "source": [
    "- Out of 1041 posts, 89 posts had comments that contained \"ad\" words.\n",
    "- Out of these 89 posts, 8 posts had more than 10 comments that contained \"ad\" words.\n",
    "- Out of these 89 posts, the number of comments with \"ad\" words to the total number of comments show there are posts with 43% of its comments having \"ad\" words in them (everyone is calling out on the account owner for writing an ad)\n",
    "- No retweets, all original posts.\n",
    "\n",
    "# Explore basic user engagement features (likes, reposts, comments)"
   ]
  },
  {
   "cell_type": "code",
   "execution_count": 18,
   "metadata": {
    "collapsed": false
   },
   "outputs": [
    {
     "data": {
      "text/plain": [
       "1726.5120076849184"
      ]
     },
     "execution_count": 18,
     "metadata": {},
     "output_type": "execute_result"
    }
   ],
   "source": [
    "cmtData1.repostNo.mean()"
   ]
  },
  {
   "cell_type": "code",
   "execution_count": 47,
   "metadata": {
    "collapsed": false
   },
   "outputs": [
    {
     "data": {
      "text/plain": [
       "<matplotlib.legend.Legend at 0x115778f50>"
      ]
     },
     "execution_count": 47,
     "metadata": {},
     "output_type": "execute_result"
    },
    {
     "data": {
      "image/png": "[encoded data removed]",
      "text/plain": [
       "<matplotlib.figure.Figure at 0x1157c9d90>"
      ]
     },
     "metadata": {},
     "output_type": "display_data"
    }
   ],
   "source": [
    "%matplotlib inline\n",
    "\n",
    "plt.rcParams.update(pd.tools.plotting.mpl_stylesheet)\n",
    "colors = pd.tools.plotting._get_standard_colors(1, color_type='random')\n",
    "fig, ax = plt.subplots(figsize = (10, 10))\n",
    "ax.set_color_cycle(colors)\n",
    "ax.margins(0.05)\n",
    "\n",
    "plt.xlim(0, 16)\n",
    "plt.ylim(0, 100)\n",
    "\n",
    "x = cmtData1.adWordNo\n",
    "n, bins, patches = plt.hist(x, bins=np.arange(0, 20, 1), label='Number of comments with \"ad words\"')\n",
    "    \n",
    "ax.legend(numpoints=1, loc='upper right')"
   ]
  },
  {
   "cell_type": "code",
   "execution_count": 98,
   "metadata": {
    "collapsed": false
   },
   "outputs": [
    {
     "data": {
      "text/plain": [
       "<matplotlib.legend.Legend at 0x1155b2fd0>"
      ]
     },
     "execution_count": 98,
     "metadata": {},
     "output_type": "execute_result"
    },
    {
     "data": {
      "image/png": "[encoded data removed]",
      "text/plain": [
       "<matplotlib.figure.Figure at 0x1153d9c50>"
      ]
     },
     "metadata": {},
     "output_type": "display_data"
    }
   ],
   "source": [
    "fig, ax = plt.subplots(figsize = (10, 10))\n",
    "ax.set_color_cycle(colors)\n",
    "ax.margins(0.05)\n",
    "\n",
    "plt.xlim(0, 0.3)\n",
    "plt.ylim(0, 10)\n",
    "\n",
    "x = cmtData1.adWordRatio\n",
    "n, bins, patches = plt.hist(x, bins=np.arange(0, 0.3, 0.005), label='Number of comments with \"ad words\" / total')\n",
    "    \n",
    "ax.legend(numpoints=1, loc='upper right')"
   ]
  },
  {
   "cell_type": "markdown",
   "metadata": {},
   "source": [
    "There are 3 or 4 single posts with a significant proportion of its comments shouting out \"Ads!\". E.g. 10%, 18%, 43%. More data is needed to get a better picture of this trend!"
   ]
  },
  {
   "cell_type": "code",
   "execution_count": 21,
   "metadata": {
    "collapsed": false
   },
   "outputs": [
    {
     "data": {
      "text/plain": [
       "<matplotlib.text.Text at 0x1134bf050>"
      ]
     },
     "execution_count": 21,
     "metadata": {},
     "output_type": "execute_result"
    },
    {
     "data": {
      "image/png": "[encoded data removed]",
      "text/plain": [
       "<matplotlib.figure.Figure at 0x11321f5d0>"
      ]
     },
     "metadata": {},
     "output_type": "display_data"
    }
   ],
   "source": [
    "fig, ax = plt.subplots(figsize = (10, 10))\n",
    "ax.set_color_cycle(colors)\n",
    "ax.margins(0.05)\n",
    "\n",
    "plt.xlim(0, 80000)\n",
    "plt.ylim(0, 50)\n",
    "\n",
    "x = cmtData1.repostNo\n",
    "\n",
    "plt.hist(x, 50, alpha = 0.75, label = 'Number of reposts')\n",
    "# n, bins, patches = plt.hist(x, bins=np.arange(0, 1000, 80000), label='Number of \"ad words\"')\n",
    "    \n",
    "ax.legend(numpoints=1, loc='upper right')\n",
    "\n",
    "plt.xlabel('Number of reposts')\n",
    "plt.ylabel('Number of posts with given number of reposts')\n",
    "plt.title('Histogram for number of reposts')"
   ]
  },
  {
   "cell_type": "markdown",
   "metadata": {},
   "source": [
    "Repost numbers seem to peak at 10k, 20k, 30k, 50k, 70k etc. But, this signal is actually way weak. Need more data to confirm.\n",
    "\n",
    "# Clustering\n",
    "## 1. Cluster repost data vs adWord data\n",
    "### 1a. Raw ad word number"
   ]
  },
  {
   "cell_type": "code",
   "execution_count": 22,
   "metadata": {
    "collapsed": false,
    "scrolled": false
   },
   "outputs": [
    {
     "name": "stdout",
     "output_type": "stream",
     "text": [
      "[0 0 0 ..., 0 0 0]\n",
      "[[  1.11270316e+03   4.15187377e-01]\n",
      " [  1.98131667e+04   4.16666667e-01]\n",
      " [  6.45006667e+04   0.00000000e+00]]\n"
     ]
    },
    {
     "data": {
      "image/png": "[encoded data removed]",
      "text/plain": [
       "<matplotlib.figure.Figure at 0x10ff3a590>"
      ]
     },
     "metadata": {},
     "output_type": "display_data"
    }
   ],
   "source": [
    "x = cmtData1[['repostNo', 'adWordNo']]\n",
    "km = KMeans(3)\n",
    "km.fit(x)\n",
    "\n",
    "labels = km.labels_\n",
    "centroids = km.cluster_centers_\n",
    "print labels\n",
    "print centroids\n",
    "\n",
    "type(centroids)\n",
    "\n",
    "fig, ax = plt.subplots(figsize = (10, 10))\n",
    "# ax.set_color_cycle(colors)\n",
    "ax.margins(0.05)\n",
    "\n",
    "for i in range(3):\n",
    "    ds = x[labels == i]\n",
    "    # Plot the data\n",
    "    plt.plot(ds.ix[:, 0], ds.ix[:, 1], 'o')\n",
    "    # Plot the centroids\n",
    "    lines = plt.plot(centroids[i, 0], centroids[i, 1], 'kx')\n",
    "    # Make the centroid 'x's bigger\n",
    "    plt.setp(lines, ms = 15)\n",
    "    plt.setp(lines, mew = 2)\n",
    "plt.show()\n",
    "# Higher adwd, lower repostNos."
   ]
  },
  {
   "cell_type": "code",
   "execution_count": 23,
   "metadata": {
    "collapsed": false,
    "scrolled": true
   },
   "outputs": [
    {
     "data": {
      "text/plain": [
       "<matplotlib.text.Text at 0x114c2e810>"
      ]
     },
     "execution_count": 23,
     "metadata": {},
     "output_type": "execute_result"
    },
    {
     "data": {
      "image/png": "[encoded data removed]",
      "text/plain": [
       "<matplotlib.figure.Figure at 0x1136038d0>"
      ]
     },
     "metadata": {},
     "output_type": "display_data"
    },
    {
     "data": {
      "image/png": "[encoded data removed]",
      "text/plain": [
       "<matplotlib.figure.Figure at 0x114bcc590>"
      ]
     },
     "metadata": {},
     "output_type": "display_data"
    }
   ],
   "source": [
    "x = cmtData1[['repostNo', 'adWordNo']]\n",
    "K = range(1,10)\n",
    "km = [KMeans(n_clusters=k).fit(x) for k in K]\n",
    "labels = [k.labels_ for k in km]\n",
    "centroids = [k.cluster_centers_ for k in km]\n",
    "\n",
    "wcss = []\n",
    "for lab, cent in zip(labels, centroids):\n",
    "    x_c = []\n",
    "    wcss.append(0)\n",
    "    for lab_, cent_ in zip(list(set(lab)), cent): # lab_ within lab: 0, 1, etc; cent_ within cent\n",
    "        x_c = x[lab == lab_] # Generate subset of x that corresponds to the current lab_\n",
    "        d = cdist(x_c, np.reshape(cent_, (-1, 2)), 'euclidean') # Generate vector of distances between x_c and current cent_ \n",
    "        wcss[-1] += float(sum(d**2))\n",
    "\n",
    "tss = wcss[0]\n",
    "y_elbow = [i/x.shape[0] for i in wcss]\n",
    "y_rss = [100-i/tss*100 for i in wcss]\n",
    "\n",
    "kIdx = 3-1\n",
    "\n",
    "# Elbow plot\n",
    "fig = plt.figure()\n",
    "ax = fig.add_subplot(111)\n",
    "ax.plot(K, y_elbow, 'b*-')\n",
    "ax.plot(K[kIdx], y_elbow[kIdx],\n",
    "        marker='o', markersize=12, markeredgewidth=2, markeredgecolor='r', markerfacecolor='None')\n",
    "plt.grid(True)\n",
    "plt.xlabel('Number of clusters')\n",
    "plt.ylabel('Average within-cluster sum of squares')\n",
    "plt.title('Elbow for KMeans clustering')\n",
    "\n",
    "# Variance explained plot\n",
    "fig = plt.figure()\n",
    "ax = fig.add_subplot(111)\n",
    "ax.plot(K, y_rss, 'b*-')\n",
    "ax.plot(K[kIdx], y_rss[kIdx],\n",
    "        marker='o', markersize=12, markeredgewidth=2, markeredgecolor='r', markerfacecolor='None')\n",
    "plt.grid(True)\n",
    "plt.xlabel('Number of clusters')\n",
    "plt.ylabel('Percentage of variance explained')\n",
    "plt.title('Elbow plot for KMeans clustering')"
   ]
  },
  {
   "cell_type": "markdown",
   "metadata": {},
   "source": [
    "### 1b. Ad word ratio"
   ]
  },
  {
   "cell_type": "code",
   "execution_count": 99,
   "metadata": {
    "collapsed": false,
    "scrolled": false
   },
   "outputs": [
    {
     "name": "stdout",
     "output_type": "stream",
     "text": [
      "[[  1.11270316e+03   1.97298283e-03]\n",
      " [  6.45006667e+04   0.00000000e+00]\n",
      " [  1.98131667e+04   9.79213796e-05]]\n"
     ]
    },
    {
     "data": {
      "text/plain": [
       "<matplotlib.text.Text at 0x115366dd0>"
      ]
     },
     "execution_count": 99,
     "metadata": {},
     "output_type": "execute_result"
    },
    {
     "data": {
      "image/png": "[encoded data removed]",
      "text/plain": [
       "<matplotlib.figure.Figure at 0x10da54e10>"
      ]
     },
     "metadata": {},
     "output_type": "display_data"
    }
   ],
   "source": [
    "x = cmtData1[['repostNo', 'adWordRatio']]\n",
    "km = KMeans(3)\n",
    "km.fit(x)\n",
    "\n",
    "labels = km.labels_\n",
    "centroids = km.cluster_centers_\n",
    "print centroids\n",
    "\n",
    "type(centroids)\n",
    "\n",
    "fig, ax = plt.subplots(figsize = (10, 10))\n",
    "# ax.set_color_cycle(colors)\n",
    "ax.margins(0.05)\n",
    "\n",
    "for i in range(3):\n",
    "    ds = x[labels == i]\n",
    "    # Plot the data\n",
    "    plt.plot(ds.ix[:, 0], ds.ix[:, 1], 'o')\n",
    "    # Plot the centroids\n",
    "    lines = plt.plot(centroids[i, 0], centroids[i, 1], 'kx')\n",
    "    # Make the centroid 'x's bigger\n",
    "    plt.setp(lines, ms = 15)\n",
    "    plt.setp(lines, mew = 2)\n",
    "\n",
    "plt.xlabel('Number of reposts')\n",
    "plt.ylabel('Percentage of comments that contained \"ad words\"')\n",
    "plt.title('KMeans clustering for repost and comment engagement')\n"
   ]
  },
  {
   "cell_type": "markdown",
   "metadata": {},
   "source": [
    "#### Justifying the number of centers through elbow plots:"
   ]
  },
  {
   "cell_type": "code",
   "execution_count": 51,
   "metadata": {
    "collapsed": false,
    "scrolled": true
   },
   "outputs": [
    {
     "data": {
      "text/plain": [
       "<matplotlib.text.Text at 0x113b51d10>"
      ]
     },
     "execution_count": 51,
     "metadata": {},
     "output_type": "execute_result"
    },
    {
     "data": {
      "image/png": "[encoded data removed]",
      "text/plain": [
       "<matplotlib.figure.Figure at 0x113694d10>"
      ]
     },
     "metadata": {},
     "output_type": "display_data"
    },
    {
     "data": {
      "image/png": "[encoded data removed]",
      "text/plain": [
       "<matplotlib.figure.Figure at 0x10dd4ba90>"
      ]
     },
     "metadata": {},
     "output_type": "display_data"
    }
   ],
   "source": [
    "x = cmtData1[['repostNo', 'adWordRatio']]\n",
    "K = range(1,10)\n",
    "km = [KMeans(n_clusters=k).fit(x) for k in K]\n",
    "labels = [k.labels_ for k in km]\n",
    "centroids = [k.cluster_centers_ for k in km]\n",
    "\n",
    "wcss = []\n",
    "for lab, cent in zip(labels, centroids):\n",
    "    x_c = []\n",
    "    wcss.append(0)\n",
    "    for lab_, cent_ in zip(list(set(lab)), cent): # lab_ within lab: 0, 1, etc; cent_ within cent\n",
    "        x_c = x[lab == lab_] # Generate subset of x that corresponds to the current lab_\n",
    "        d = cdist(x_c, np.reshape(cent_, (-1, 2)), 'euclidean') # Generate vector of distances between x_c and current cent_ \n",
    "        wcss[-1] += float(sum(d**2))\n",
    "\n",
    "tss = wcss[0]\n",
    "y_elbow = [i/x.shape[0] for i in wcss]\n",
    "y_rss = [100-i/tss*100 for i in wcss]\n",
    "\n",
    "kIdx = 3-1\n",
    "\n",
    "# Elbow plot\n",
    "fig = plt.figure()\n",
    "ax = fig.add_subplot(111)\n",
    "ax.plot(K, y_elbow, 'b*-')\n",
    "ax.plot(K[kIdx], y_elbow[kIdx],\n",
    "        marker='o', markersize=12, markeredgewidth=2, markeredgecolor='r', markerfacecolor='None')\n",
    "plt.grid(True)\n",
    "plt.xlabel('Number of clusters')\n",
    "plt.ylabel('Average within-cluster distance squared')\n",
    "plt.title('Elbow for KMeans clustering')\n",
    "\n",
    "# Variance explained plot\n",
    "fig = plt.figure()\n",
    "ax = fig.add_subplot(111)\n",
    "ax.plot(K, y_rss, 'b*-')\n",
    "ax.plot(K[kIdx], y_rss[kIdx],\n",
    "        marker='o', markersize=12, markeredgewidth=2, markeredgecolor='r', markerfacecolor='None')\n",
    "plt.grid(True)\n",
    "plt.xlabel('Number of clusters')\n",
    "plt.ylabel('Percentage of variance explained')\n",
    "plt.title('Elbow plot for KMeans clustering')"
   ]
  },
  {
   "cell_type": "markdown",
   "metadata": {},
   "source": [
    "#### Justifying the number of centers through silhouette plots:"
   ]
  },
  {
   "cell_type": "code",
   "execution_count": null,
   "metadata": {
    "collapsed": true
   },
   "outputs": [],
   "source": []
  },
  {
   "cell_type": "markdown",
   "metadata": {},
   "source": [
    "### 2. Cluster adWordNo only"
   ]
  },
  {
   "cell_type": "code",
   "execution_count": 100,
   "metadata": {
    "collapsed": false
   },
   "outputs": [
    {
     "data": {
      "image/png": "[encoded data removed]",
      "text/plain": [
       "<matplotlib.figure.Figure at 0x10dcdd390>"
      ]
     },
     "metadata": {},
     "output_type": "display_data"
    }
   ],
   "source": [
    "\n",
    "x = pd.DataFrame(cmtData1['adWordNo'])\n",
    "nclusters = 2\n",
    "km = KMeans(nclusters)\n",
    "km.fit(x)\n",
    "labels = km.labels_\n",
    "centroids = km.cluster_centers_\n",
    "\n",
    "for i in range(nclusters):\n",
    "    ds = x[labels == i]\n",
    "    # Plot the data\n",
    "    plt.plot(ds, pd.DataFrame([1] * len(ds)), 'o')\n",
    "    # Plot the centroids\n",
    "    lines = plt.plot(centroids[i, 0], 1, 'kx')\n",
    "    # Make the centroid 'x's bigger\n",
    "    plt.setp(lines, ms = 15)\n",
    "    plt.setp(lines, mew = 2)\n",
    "plt.show()\n",
    "# Higher adwd, lower repostNos.\n"
   ]
  },
  {
   "cell_type": "code",
   "execution_count": 27,
   "metadata": {
    "collapsed": false
   },
   "outputs": [
    {
     "data": {
      "image/png": "[encoded data removed]",
      "text/plain": [
       "<matplotlib.figure.Figure at 0x1136de150>"
      ]
     },
     "metadata": {},
     "output_type": "display_data"
    }
   ],
   "source": [
    "# 3. Cluster repostNo only\n",
    "x = pd.DataFrame(cmtData1['repostNo'])\n",
    "nclusters = 3\n",
    "km = KMeans(nclusters)\n",
    "km.fit(x)\n",
    "labels = km.labels_\n",
    "centroids = km.cluster_centers_\n",
    "\n",
    "for i in range(nclusters):\n",
    "    ds = x[labels == i]\n",
    "    # Plot the data\n",
    "    plt.plot(ds, pd.DataFrame([1] * len(ds)), 'o')\n",
    "    # Plot the centroids\n",
    "    lines = plt.plot(centroids[i, 0], 1, 'kx')\n",
    "    # Make the centroid 'x's bigger\n",
    "    plt.setp(lines, ms = 15)\n",
    "    plt.setp(lines, mew = 2)\n",
    "plt.show()"
   ]
  },
  {
   "cell_type": "markdown",
   "metadata": {},
   "source": [
    "### 4. Cluster comment no vs adWord no"
   ]
  },
  {
   "cell_type": "code",
   "execution_count": 28,
   "metadata": {
    "collapsed": false
   },
   "outputs": [
    {
     "data": {
      "image/png": "[encoded data removed]",
      "text/plain": [
       "<matplotlib.figure.Figure at 0x1124c00d0>"
      ]
     },
     "metadata": {},
     "output_type": "display_data"
    }
   ],
   "source": [
    "\n",
    "x = cmtData1[['commentNo', 'adWordNo']]\n",
    "nclusters = 3\n",
    "km = KMeans(nclusters)\n",
    "km.fit(x)\n",
    "\n",
    "labels = km.labels_\n",
    "centroids = km.cluster_centers_\n",
    "\n",
    "for i in range(nclusters):\n",
    "    ds = x[labels == i]\n",
    "    # Plot the data\n",
    "    plt.plot(ds.ix[:, 0], ds.ix[:, 1], 'o')\n",
    "    # Plot the centroids\n",
    "    lines = plt.plot(centroids[i, 0], centroids[i, 1], 'kx')\n",
    "    # Make the centroid 'x's bigger\n",
    "    plt.setp(lines, ms = 15)\n",
    "    plt.setp(lines, mew = 2)\n",
    "plt.show()\n"
   ]
  },
  {
   "cell_type": "markdown",
   "metadata": {},
   "source": [
    "Larger number of comments, less comments with adwords. Consistent with the repost trend, since number of comments positively correlates with number of reposts."
   ]
  },
  {
   "cell_type": "code",
   "execution_count": 29,
   "metadata": {
    "collapsed": false
   },
   "outputs": [
    {
     "data": {
      "text/plain": [
       "array([[  4.84966967e+02,   4.19419419e-01],\n",
       "       [  5.75560000e+04,   0.00000000e+00],\n",
       "       [  6.57219512e+03,   2.92682927e-01]])"
      ]
     },
     "execution_count": 29,
     "metadata": {},
     "output_type": "execute_result"
    }
   ],
   "source": [
    "centroids"
   ]
  },
  {
   "cell_type": "markdown",
   "metadata": {},
   "source": [
    "### 5. Cluster comment no vs repost no"
   ]
  },
  {
   "cell_type": "code",
   "execution_count": 30,
   "metadata": {
    "collapsed": false
   },
   "outputs": [
    {
     "data": {
      "image/png": "[encoded data removed]",
      "text/plain": [
       "<matplotlib.figure.Figure at 0x1135b3a90>"
      ]
     },
     "metadata": {},
     "output_type": "display_data"
    }
   ],
   "source": [
    "\n",
    "# Try: 3 or 4 centers\n",
    "x = cmtData1[['commentNo', 'repostNo']]\n",
    "nclusters = 3\n",
    "km = KMeans(nclusters)\n",
    "km.fit(x)\n",
    "\n",
    "labels = km.labels_\n",
    "centroids = km.cluster_centers_\n",
    "\n",
    "for i in range(nclusters):\n",
    "    ds = x[labels == i]\n",
    "    # Plot the data\n",
    "    plt.plot(ds.ix[:, 0], ds.ix[:, 1], 'o')\n",
    "    # Plot the centroids\n",
    "    lines = plt.plot(centroids[i, 0], centroids[i, 1], 'kx')\n",
    "    # Make the centroid 'x's bigger\n",
    "    plt.setp(lines, ms = 15)\n",
    "    plt.setp(lines, mew = 2)\n",
    "\n",
    "plt.xlabel('Comment No')\n",
    "plt.ylabel('Repost No')\n",
    "\n",
    "plt.show()\n",
    "# Cluster centroids do grow together, almost linearly. However:\n",
    "# Cluster 1: Low repost, low comments - normal\n",
    "# Cluster 2: Low comments, mid-high repost - rigged?\n",
    "# Cluster 3: 1 outlier, high comments, high repost - normal (high impact posts)"
   ]
  },
  {
   "cell_type": "code",
   "execution_count": 31,
   "metadata": {
    "collapsed": false
   },
   "outputs": [
    {
     "data": {
      "text/plain": [
       "array([[   603.54545455,   1095.40513834],\n",
       "       [ 24018.66666667,  64500.66666667],\n",
       "       [  4948.23076923,  19047.96153846]])"
      ]
     },
     "execution_count": 31,
     "metadata": {},
     "output_type": "execute_result"
    }
   ],
   "source": [
    "centroids"
   ]
  },
  {
   "cell_type": "code",
   "execution_count": 32,
   "metadata": {
    "collapsed": false
   },
   "outputs": [
    {
     "data": {
      "image/png": "[encoded data removed]",
      "text/plain": [
       "<matplotlib.figure.Figure at 0x1133505d0>"
      ]
     },
     "metadata": {},
     "output_type": "display_data"
    }
   ],
   "source": [
    "x = cmtData1[['commentNo', 'repostNo']]\n",
    "nclusters = 4\n",
    "km = KMeans(nclusters)\n",
    "km.fit(x)\n",
    "\n",
    "labels = km.labels_\n",
    "centroids = km.cluster_centers_\n",
    "\n",
    "for i in range(nclusters):\n",
    "    ds = x[labels == i]\n",
    "    # Plot the data\n",
    "    plt.plot(ds.ix[:, 0], ds.ix[:, 1], 'o')\n",
    "    # Plot the centroids\n",
    "    lines = plt.plot(centroids[i, 0], centroids[i, 1], 'kx')\n",
    "    # Make the centroid 'x's bigger\n",
    "    plt.setp(lines, ms = 15)\n",
    "    plt.setp(lines, mew = 2)\n",
    "\n",
    "plt.xlabel('Comment No')\n",
    "plt.ylabel('Repost No')\n",
    "\n",
    "plt.show()\n",
    "# Cluster 1: Low repost, low comments - normal\n",
    "# Cluster 2: Low comments, mid-high repost - rigged?\n",
    "# Cluster 3: 1 outlier, high comments, high repost - normal"
   ]
  },
  {
   "cell_type": "code",
   "execution_count": 33,
   "metadata": {
    "collapsed": false
   },
   "outputs": [
    {
     "data": {
      "text/plain": [
       "array([[   440.15876516,    667.65049614],\n",
       "       [  6018.11764706,  25218.        ],\n",
       "       [ 32986.        ,  71448.        ],\n",
       "       [  2121.68695652,   5392.50434783]])"
      ]
     },
     "execution_count": 33,
     "metadata": {},
     "output_type": "execute_result"
    }
   ],
   "source": [
    "centroids"
   ]
  },
  {
   "cell_type": "markdown",
   "metadata": {
    "collapsed": true
   },
   "source": [
    "### 6. Cluster everyting"
   ]
  },
  {
   "cell_type": "code",
   "execution_count": 151,
   "metadata": {
    "collapsed": false
   },
   "outputs": [],
   "source": [
    "x = cmtData1[['commentNo', 'repostNo', 'likeNo', 'isRetweet', 'adWordNo', 'commentAveLength']]\n",
    "nclusters = 3\n",
    "km = KMeans(nclusters)\n",
    "km.fit(x)\n",
    "\n",
    "labels = km.labels_\n",
    "centroids = km.cluster_centers_\n",
    "\n",
    "x_clustered = [x[labels == i] for i in range(nclusters)]"
   ]
  },
  {
   "cell_type": "code",
   "execution_count": 152,
   "metadata": {
    "collapsed": false
   },
   "outputs": [
    {
     "name": "stdout",
     "output_type": "stream",
     "text": [
      "(1003, 6)\n",
      "(36, 6)\n",
      "(2, 6)\n"
     ]
    }
   ],
   "source": [
    "print x_clustered[0].shape\n",
    "print x_clustered[1].shape\n",
    "print x_clustered[2].shape"
   ]
  },
  {
   "cell_type": "code",
   "execution_count": 153,
   "metadata": {
    "collapsed": false
   },
   "outputs": [
    {
     "data": {
      "text/html": [
       "<div>\n",
       "<table border=\"1\" class=\"dataframe\">\n",
       "  <thead>\n",
       "    <tr style=\"text-align: right;\">\n",
       "      <th></th>\n",
       "      <th>commentNo</th>\n",
       "      <th>repostNo</th>\n",
       "      <th>likeNo</th>\n",
       "      <th>isRetweet</th>\n",
       "      <th>adWordNo</th>\n",
       "      <th>commentAveLength</th>\n",
       "    </tr>\n",
       "  </thead>\n",
       "  <tbody>\n",
       "    <tr>\n",
       "      <th>1</th>\n",
       "      <td>168</td>\n",
       "      <td>238</td>\n",
       "      <td>1233</td>\n",
       "      <td>False</td>\n",
       "      <td>0</td>\n",
       "      <td>19.0838</td>\n",
       "    </tr>\n",
       "    <tr>\n",
       "      <th>3</th>\n",
       "      <td>562</td>\n",
       "      <td>52</td>\n",
       "      <td>1337</td>\n",
       "      <td>False</td>\n",
       "      <td>0</td>\n",
       "      <td>0</td>\n",
       "    </tr>\n",
       "    <tr>\n",
       "      <th>4</th>\n",
       "      <td>22</td>\n",
       "      <td>30</td>\n",
       "      <td>319</td>\n",
       "      <td>False</td>\n",
       "      <td>0</td>\n",
       "      <td>18.2273</td>\n",
       "    </tr>\n",
       "    <tr>\n",
       "      <th>6</th>\n",
       "      <td>177</td>\n",
       "      <td>11</td>\n",
       "      <td>515</td>\n",
       "      <td>False</td>\n",
       "      <td>0</td>\n",
       "      <td>0</td>\n",
       "    </tr>\n",
       "    <tr>\n",
       "      <th>8</th>\n",
       "      <td>587</td>\n",
       "      <td>2891</td>\n",
       "      <td>3473</td>\n",
       "      <td>False</td>\n",
       "      <td>0</td>\n",
       "      <td>0</td>\n",
       "    </tr>\n",
       "  </tbody>\n",
       "</table>\n",
       "</div>"
      ],
      "text/plain": [
       "  commentNo repostNo likeNo isRetweet adWordNo commentAveLength\n",
       "1       168      238   1233     False        0          19.0838\n",
       "3       562       52   1337     False        0                0\n",
       "4        22       30    319     False        0          18.2273\n",
       "6       177       11    515     False        0                0\n",
       "8       587     2891   3473     False        0                0"
      ]
     },
     "execution_count": 153,
     "metadata": {},
     "output_type": "execute_result"
    }
   ],
   "source": [
    "x_clustered[0].head()"
   ]
  },
  {
   "cell_type": "code",
   "execution_count": 154,
   "metadata": {
    "collapsed": false
   },
   "outputs": [
    {
     "data": {
      "text/html": [
       "<div>\n",
       "<table border=\"1\" class=\"dataframe\">\n",
       "  <thead>\n",
       "    <tr style=\"text-align: right;\">\n",
       "      <th></th>\n",
       "      <th>commentNo</th>\n",
       "      <th>repostNo</th>\n",
       "      <th>likeNo</th>\n",
       "      <th>isRetweet</th>\n",
       "      <th>adWordNo</th>\n",
       "      <th>commentAveLength</th>\n",
       "    </tr>\n",
       "  </thead>\n",
       "  <tbody>\n",
       "    <tr>\n",
       "      <th>7</th>\n",
       "      <td>4356</td>\n",
       "      <td>17248</td>\n",
       "      <td>8769</td>\n",
       "      <td>False</td>\n",
       "      <td>1</td>\n",
       "      <td>26.75</td>\n",
       "    </tr>\n",
       "    <tr>\n",
       "      <th>26</th>\n",
       "      <td>4444</td>\n",
       "      <td>22843</td>\n",
       "      <td>11145</td>\n",
       "      <td>False</td>\n",
       "      <td>1</td>\n",
       "      <td>22.6392</td>\n",
       "    </tr>\n",
       "    <tr>\n",
       "      <th>71</th>\n",
       "      <td>1272</td>\n",
       "      <td>7935</td>\n",
       "      <td>16149</td>\n",
       "      <td>False</td>\n",
       "      <td>0</td>\n",
       "      <td>0</td>\n",
       "    </tr>\n",
       "    <tr>\n",
       "      <th>76</th>\n",
       "      <td>7662</td>\n",
       "      <td>1843</td>\n",
       "      <td>23922</td>\n",
       "      <td>False</td>\n",
       "      <td>1</td>\n",
       "      <td>19.186</td>\n",
       "    </tr>\n",
       "    <tr>\n",
       "      <th>85</th>\n",
       "      <td>20974</td>\n",
       "      <td>1383</td>\n",
       "      <td>13744</td>\n",
       "      <td>False</td>\n",
       "      <td>0</td>\n",
       "      <td>34.2408</td>\n",
       "    </tr>\n",
       "    <tr>\n",
       "      <th>87</th>\n",
       "      <td>1722</td>\n",
       "      <td>3864</td>\n",
       "      <td>22395</td>\n",
       "      <td>False</td>\n",
       "      <td>0</td>\n",
       "      <td>0</td>\n",
       "    </tr>\n",
       "    <tr>\n",
       "      <th>111</th>\n",
       "      <td>7245</td>\n",
       "      <td>32594</td>\n",
       "      <td>34575</td>\n",
       "      <td>False</td>\n",
       "      <td>2</td>\n",
       "      <td>25.2337</td>\n",
       "    </tr>\n",
       "    <tr>\n",
       "      <th>118</th>\n",
       "      <td>773</td>\n",
       "      <td>1554</td>\n",
       "      <td>17977</td>\n",
       "      <td>False</td>\n",
       "      <td>1</td>\n",
       "      <td>24.0657</td>\n",
       "    </tr>\n",
       "    <tr>\n",
       "      <th>148</th>\n",
       "      <td>3226</td>\n",
       "      <td>14787</td>\n",
       "      <td>8625</td>\n",
       "      <td>False</td>\n",
       "      <td>0</td>\n",
       "      <td>17.8477</td>\n",
       "    </tr>\n",
       "    <tr>\n",
       "      <th>150</th>\n",
       "      <td>5855</td>\n",
       "      <td>2667</td>\n",
       "      <td>22367</td>\n",
       "      <td>False</td>\n",
       "      <td>0</td>\n",
       "      <td>18.2437</td>\n",
       "    </tr>\n",
       "    <tr>\n",
       "      <th>161</th>\n",
       "      <td>12502</td>\n",
       "      <td>29636</td>\n",
       "      <td>42326</td>\n",
       "      <td>False</td>\n",
       "      <td>0</td>\n",
       "      <td>15.3581</td>\n",
       "    </tr>\n",
       "    <tr>\n",
       "      <th>180</th>\n",
       "      <td>1440</td>\n",
       "      <td>8051</td>\n",
       "      <td>16647</td>\n",
       "      <td>False</td>\n",
       "      <td>0</td>\n",
       "      <td>15.3571</td>\n",
       "    </tr>\n",
       "    <tr>\n",
       "      <th>239</th>\n",
       "      <td>8504</td>\n",
       "      <td>27807</td>\n",
       "      <td>32607</td>\n",
       "      <td>False</td>\n",
       "      <td>0</td>\n",
       "      <td>39.8051</td>\n",
       "    </tr>\n",
       "    <tr>\n",
       "      <th>242</th>\n",
       "      <td>3206</td>\n",
       "      <td>33204</td>\n",
       "      <td>17888</td>\n",
       "      <td>False</td>\n",
       "      <td>0</td>\n",
       "      <td>17.8934</td>\n",
       "    </tr>\n",
       "    <tr>\n",
       "      <th>244</th>\n",
       "      <td>4611</td>\n",
       "      <td>18277</td>\n",
       "      <td>13551</td>\n",
       "      <td>False</td>\n",
       "      <td>0</td>\n",
       "      <td>19.6482</td>\n",
       "    </tr>\n",
       "    <tr>\n",
       "      <th>374</th>\n",
       "      <td>2028</td>\n",
       "      <td>10958</td>\n",
       "      <td>9327</td>\n",
       "      <td>False</td>\n",
       "      <td>1</td>\n",
       "      <td>25.1465</td>\n",
       "    </tr>\n",
       "    <tr>\n",
       "      <th>405</th>\n",
       "      <td>2876</td>\n",
       "      <td>10833</td>\n",
       "      <td>15293</td>\n",
       "      <td>False</td>\n",
       "      <td>0</td>\n",
       "      <td>0</td>\n",
       "    </tr>\n",
       "    <tr>\n",
       "      <th>429</th>\n",
       "      <td>7745</td>\n",
       "      <td>35337</td>\n",
       "      <td>21221</td>\n",
       "      <td>False</td>\n",
       "      <td>1</td>\n",
       "      <td>26.1879</td>\n",
       "    </tr>\n",
       "    <tr>\n",
       "      <th>442</th>\n",
       "      <td>3107</td>\n",
       "      <td>11512</td>\n",
       "      <td>15592</td>\n",
       "      <td>False</td>\n",
       "      <td>0</td>\n",
       "      <td>0</td>\n",
       "    </tr>\n",
       "    <tr>\n",
       "      <th>501</th>\n",
       "      <td>4096</td>\n",
       "      <td>11693</td>\n",
       "      <td>15013</td>\n",
       "      <td>False</td>\n",
       "      <td>0</td>\n",
       "      <td>0</td>\n",
       "    </tr>\n",
       "    <tr>\n",
       "      <th>502</th>\n",
       "      <td>1564</td>\n",
       "      <td>20451</td>\n",
       "      <td>11462</td>\n",
       "      <td>False</td>\n",
       "      <td>0</td>\n",
       "      <td>22.148</td>\n",
       "    </tr>\n",
       "    <tr>\n",
       "      <th>533</th>\n",
       "      <td>1847</td>\n",
       "      <td>8184</td>\n",
       "      <td>12319</td>\n",
       "      <td>False</td>\n",
       "      <td>1</td>\n",
       "      <td>26.5857</td>\n",
       "    </tr>\n",
       "    <tr>\n",
       "      <th>542</th>\n",
       "      <td>1981</td>\n",
       "      <td>7145</td>\n",
       "      <td>19670</td>\n",
       "      <td>False</td>\n",
       "      <td>0</td>\n",
       "      <td>0</td>\n",
       "    </tr>\n",
       "    <tr>\n",
       "      <th>559</th>\n",
       "      <td>4011</td>\n",
       "      <td>18794</td>\n",
       "      <td>21243</td>\n",
       "      <td>False</td>\n",
       "      <td>4</td>\n",
       "      <td>15.2926</td>\n",
       "    </tr>\n",
       "    <tr>\n",
       "      <th>587</th>\n",
       "      <td>5857</td>\n",
       "      <td>16291</td>\n",
       "      <td>25715</td>\n",
       "      <td>False</td>\n",
       "      <td>0</td>\n",
       "      <td>21.7525</td>\n",
       "    </tr>\n",
       "    <tr>\n",
       "      <th>599</th>\n",
       "      <td>4020</td>\n",
       "      <td>18831</td>\n",
       "      <td>21304</td>\n",
       "      <td>False</td>\n",
       "      <td>0</td>\n",
       "      <td>0</td>\n",
       "    </tr>\n",
       "    <tr>\n",
       "      <th>627</th>\n",
       "      <td>5857</td>\n",
       "      <td>16279</td>\n",
       "      <td>25717</td>\n",
       "      <td>False</td>\n",
       "      <td>0</td>\n",
       "      <td>0</td>\n",
       "    </tr>\n",
       "    <tr>\n",
       "      <th>652</th>\n",
       "      <td>5709</td>\n",
       "      <td>2392</td>\n",
       "      <td>41951</td>\n",
       "      <td>False</td>\n",
       "      <td>0</td>\n",
       "      <td>0</td>\n",
       "    </tr>\n",
       "    <tr>\n",
       "      <th>685</th>\n",
       "      <td>4415</td>\n",
       "      <td>10144</td>\n",
       "      <td>44345</td>\n",
       "      <td>False</td>\n",
       "      <td>0</td>\n",
       "      <td>26.7423</td>\n",
       "    </tr>\n",
       "    <tr>\n",
       "      <th>738</th>\n",
       "      <td>1668</td>\n",
       "      <td>2193</td>\n",
       "      <td>22061</td>\n",
       "      <td>False</td>\n",
       "      <td>0</td>\n",
       "      <td>69.1119</td>\n",
       "    </tr>\n",
       "    <tr>\n",
       "      <th>810</th>\n",
       "      <td>4714</td>\n",
       "      <td>24297</td>\n",
       "      <td>14491</td>\n",
       "      <td>False</td>\n",
       "      <td>0</td>\n",
       "      <td>69.9913</td>\n",
       "    </tr>\n",
       "    <tr>\n",
       "      <th>813</th>\n",
       "      <td>6531</td>\n",
       "      <td>20459</td>\n",
       "      <td>29630</td>\n",
       "      <td>False</td>\n",
       "      <td>0</td>\n",
       "      <td>69.9416</td>\n",
       "    </tr>\n",
       "    <tr>\n",
       "      <th>919</th>\n",
       "      <td>6084</td>\n",
       "      <td>50606</td>\n",
       "      <td>13122</td>\n",
       "      <td>False</td>\n",
       "      <td>0</td>\n",
       "      <td>0</td>\n",
       "    </tr>\n",
       "    <tr>\n",
       "      <th>987</th>\n",
       "      <td>2256</td>\n",
       "      <td>5490</td>\n",
       "      <td>24526</td>\n",
       "      <td>False</td>\n",
       "      <td>0</td>\n",
       "      <td>69.0964</td>\n",
       "    </tr>\n",
       "    <tr>\n",
       "      <th>1024</th>\n",
       "      <td>11057</td>\n",
       "      <td>25752</td>\n",
       "      <td>4963</td>\n",
       "      <td>False</td>\n",
       "      <td>0</td>\n",
       "      <td>70.0918</td>\n",
       "    </tr>\n",
       "    <tr>\n",
       "      <th>1297</th>\n",
       "      <td>5551</td>\n",
       "      <td>9587</td>\n",
       "      <td>12610</td>\n",
       "      <td>False</td>\n",
       "      <td>0</td>\n",
       "      <td>70.2256</td>\n",
       "    </tr>\n",
       "  </tbody>\n",
       "</table>\n",
       "</div>"
      ],
      "text/plain": [
       "     commentNo repostNo likeNo isRetweet adWordNo commentAveLength\n",
       "7         4356    17248   8769     False        1            26.75\n",
       "26        4444    22843  11145     False        1          22.6392\n",
       "71        1272     7935  16149     False        0                0\n",
       "76        7662     1843  23922     False        1           19.186\n",
       "85       20974     1383  13744     False        0          34.2408\n",
       "87        1722     3864  22395     False        0                0\n",
       "111       7245    32594  34575     False        2          25.2337\n",
       "118        773     1554  17977     False        1          24.0657\n",
       "148       3226    14787   8625     False        0          17.8477\n",
       "150       5855     2667  22367     False        0          18.2437\n",
       "161      12502    29636  42326     False        0          15.3581\n",
       "180       1440     8051  16647     False        0          15.3571\n",
       "239       8504    27807  32607     False        0          39.8051\n",
       "242       3206    33204  17888     False        0          17.8934\n",
       "244       4611    18277  13551     False        0          19.6482\n",
       "374       2028    10958   9327     False        1          25.1465\n",
       "405       2876    10833  15293     False        0                0\n",
       "429       7745    35337  21221     False        1          26.1879\n",
       "442       3107    11512  15592     False        0                0\n",
       "501       4096    11693  15013     False        0                0\n",
       "502       1564    20451  11462     False        0           22.148\n",
       "533       1847     8184  12319     False        1          26.5857\n",
       "542       1981     7145  19670     False        0                0\n",
       "559       4011    18794  21243     False        4          15.2926\n",
       "587       5857    16291  25715     False        0          21.7525\n",
       "599       4020    18831  21304     False        0                0\n",
       "627       5857    16279  25717     False        0                0\n",
       "652       5709     2392  41951     False        0                0\n",
       "685       4415    10144  44345     False        0          26.7423\n",
       "738       1668     2193  22061     False        0          69.1119\n",
       "810       4714    24297  14491     False        0          69.9913\n",
       "813       6531    20459  29630     False        0          69.9416\n",
       "919       6084    50606  13122     False        0                0\n",
       "987       2256     5490  24526     False        0          69.0964\n",
       "1024     11057    25752   4963     False        0          70.0918\n",
       "1297      5551     9587  12610     False        0          70.2256"
      ]
     },
     "execution_count": 154,
     "metadata": {},
     "output_type": "execute_result"
    }
   ],
   "source": [
    "x_clustered[1]"
   ]
  },
  {
   "cell_type": "code",
   "execution_count": 155,
   "metadata": {
    "collapsed": false
   },
   "outputs": [
    {
     "data": {
      "text/html": [
       "<div>\n",
       "<table border=\"1\" class=\"dataframe\">\n",
       "  <thead>\n",
       "    <tr style=\"text-align: right;\">\n",
       "      <th></th>\n",
       "      <th>commentNo</th>\n",
       "      <th>repostNo</th>\n",
       "      <th>likeNo</th>\n",
       "      <th>isRetweet</th>\n",
       "      <th>adWordNo</th>\n",
       "      <th>commentAveLength</th>\n",
       "    </tr>\n",
       "  </thead>\n",
       "  <tbody>\n",
       "    <tr>\n",
       "      <th>365</th>\n",
       "      <td>57556</td>\n",
       "      <td>67228</td>\n",
       "      <td>95295</td>\n",
       "      <td>False</td>\n",
       "      <td>0</td>\n",
       "      <td>0</td>\n",
       "    </tr>\n",
       "    <tr>\n",
       "      <th>923</th>\n",
       "      <td>8416</td>\n",
       "      <td>75668</td>\n",
       "      <td>53880</td>\n",
       "      <td>False</td>\n",
       "      <td>0</td>\n",
       "      <td>67.672</td>\n",
       "    </tr>\n",
       "  </tbody>\n",
       "</table>\n",
       "</div>"
      ],
      "text/plain": [
       "    commentNo repostNo likeNo isRetweet adWordNo commentAveLength\n",
       "365     57556    67228  95295     False        0                0\n",
       "923      8416    75668  53880     False        0           67.672"
      ]
     },
     "execution_count": 155,
     "metadata": {},
     "output_type": "execute_result"
    }
   ],
   "source": [
    "x_clustered[2].head()"
   ]
  },
  {
   "cell_type": "code",
   "execution_count": 156,
   "metadata": {
    "collapsed": false
   },
   "outputs": [
    {
     "data": {
      "text/html": [
       "<div>\n",
       "<table border=\"1\" class=\"dataframe\">\n",
       "  <thead>\n",
       "    <tr style=\"text-align: right;\">\n",
       "      <th></th>\n",
       "      <th>postID</th>\n",
       "      <th>repostNo</th>\n",
       "      <th>userID</th>\n",
       "      <th>likeNo</th>\n",
       "      <th>commentNo</th>\n",
       "      <th>isRetweet</th>\n",
       "      <th>createdAt</th>\n",
       "      <th>adWordNo</th>\n",
       "      <th>commentAveLength</th>\n",
       "      <th>adWordRatio</th>\n",
       "    </tr>\n",
       "  </thead>\n",
       "  <tbody>\n",
       "    <tr>\n",
       "      <th>1</th>\n",
       "      <td>3967732766305727</td>\n",
       "      <td>238</td>\n",
       "      <td>1098618600</td>\n",
       "      <td>1233</td>\n",
       "      <td>168</td>\n",
       "      <td>False</td>\n",
       "      <td>Sun Apr 24 10:24:31 +0800 2016</td>\n",
       "      <td>0</td>\n",
       "      <td>19.0838</td>\n",
       "      <td>0.000000</td>\n",
       "    </tr>\n",
       "    <tr>\n",
       "      <th>3</th>\n",
       "      <td>3967730728486176</td>\n",
       "      <td>52</td>\n",
       "      <td>1098618600</td>\n",
       "      <td>1337</td>\n",
       "      <td>562</td>\n",
       "      <td>False</td>\n",
       "      <td>Sun Apr 24 10:16:25 +0800 2016</td>\n",
       "      <td>0</td>\n",
       "      <td>0</td>\n",
       "      <td>0.000000</td>\n",
       "    </tr>\n",
       "    <tr>\n",
       "      <th>4</th>\n",
       "      <td>3967730358857401</td>\n",
       "      <td>30</td>\n",
       "      <td>2903316485</td>\n",
       "      <td>319</td>\n",
       "      <td>22</td>\n",
       "      <td>False</td>\n",
       "      <td>Sun Apr 24 10:14:57 +0800 2016</td>\n",
       "      <td>0</td>\n",
       "      <td>18.2273</td>\n",
       "      <td>0.000000</td>\n",
       "    </tr>\n",
       "    <tr>\n",
       "      <th>6</th>\n",
       "      <td>3967729616806627</td>\n",
       "      <td>11</td>\n",
       "      <td>1098618600</td>\n",
       "      <td>515</td>\n",
       "      <td>177</td>\n",
       "      <td>False</td>\n",
       "      <td>Sun Apr 24 10:12:00 +0800 2016</td>\n",
       "      <td>0</td>\n",
       "      <td>0</td>\n",
       "      <td>0.000000</td>\n",
       "    </tr>\n",
       "    <tr>\n",
       "      <th>7</th>\n",
       "      <td>3967728744064671</td>\n",
       "      <td>17248</td>\n",
       "      <td>1764222885</td>\n",
       "      <td>8769</td>\n",
       "      <td>4356</td>\n",
       "      <td>False</td>\n",
       "      <td>Sun Apr 24 10:08:31 +0800 2016</td>\n",
       "      <td>1</td>\n",
       "      <td>26.75</td>\n",
       "      <td>0.000230</td>\n",
       "    </tr>\n",
       "    <tr>\n",
       "      <th>8</th>\n",
       "      <td>3967728391673674</td>\n",
       "      <td>2891</td>\n",
       "      <td>2709577332</td>\n",
       "      <td>3473</td>\n",
       "      <td>587</td>\n",
       "      <td>False</td>\n",
       "      <td>Sun Apr 24 10:07:08 +0800 2016</td>\n",
       "      <td>0</td>\n",
       "      <td>0</td>\n",
       "      <td>0.000000</td>\n",
       "    </tr>\n",
       "    <tr>\n",
       "      <th>9</th>\n",
       "      <td>3967728244513191</td>\n",
       "      <td>574</td>\n",
       "      <td>1618051664</td>\n",
       "      <td>878</td>\n",
       "      <td>584</td>\n",
       "      <td>False</td>\n",
       "      <td>Sun Apr 24 10:06:34 +0800 2016</td>\n",
       "      <td>0</td>\n",
       "      <td>0</td>\n",
       "      <td>0.000000</td>\n",
       "    </tr>\n",
       "    <tr>\n",
       "      <th>11</th>\n",
       "      <td>3967727868267645</td>\n",
       "      <td>3673</td>\n",
       "      <td>1742566624</td>\n",
       "      <td>7674</td>\n",
       "      <td>407</td>\n",
       "      <td>False</td>\n",
       "      <td>Sun Apr 24 10:05:03 +0800 2016</td>\n",
       "      <td>0</td>\n",
       "      <td>11.3333</td>\n",
       "      <td>0.000000</td>\n",
       "    </tr>\n",
       "    <tr>\n",
       "      <th>12</th>\n",
       "      <td>3967727867536482</td>\n",
       "      <td>1335</td>\n",
       "      <td>2430259303</td>\n",
       "      <td>2948</td>\n",
       "      <td>461</td>\n",
       "      <td>False</td>\n",
       "      <td>Sun Apr 24 10:05:03 +0800 2016</td>\n",
       "      <td>2</td>\n",
       "      <td>18.4549</td>\n",
       "      <td>0.004338</td>\n",
       "    </tr>\n",
       "    <tr>\n",
       "      <th>14</th>\n",
       "      <td>3967727720871100</td>\n",
       "      <td>62</td>\n",
       "      <td>1098618600</td>\n",
       "      <td>1090</td>\n",
       "      <td>243</td>\n",
       "      <td>False</td>\n",
       "      <td>Sun Apr 24 10:04:28 +0800 2016</td>\n",
       "      <td>1</td>\n",
       "      <td>13.4524</td>\n",
       "      <td>0.004115</td>\n",
       "    </tr>\n",
       "  </tbody>\n",
       "</table>\n",
       "</div>"
      ],
      "text/plain": [
       "              postID repostNo      userID likeNo commentNo isRetweet  \\\n",
       "1   3967732766305727      238  1098618600   1233       168     False   \n",
       "3   3967730728486176       52  1098618600   1337       562     False   \n",
       "4   3967730358857401       30  2903316485    319        22     False   \n",
       "6   3967729616806627       11  1098618600    515       177     False   \n",
       "7   3967728744064671    17248  1764222885   8769      4356     False   \n",
       "8   3967728391673674     2891  2709577332   3473       587     False   \n",
       "9   3967728244513191      574  1618051664    878       584     False   \n",
       "11  3967727868267645     3673  1742566624   7674       407     False   \n",
       "12  3967727867536482     1335  2430259303   2948       461     False   \n",
       "14  3967727720871100       62  1098618600   1090       243     False   \n",
       "\n",
       "                         createdAt adWordNo commentAveLength  adWordRatio  \n",
       "1   Sun Apr 24 10:24:31 +0800 2016        0          19.0838     0.000000  \n",
       "3   Sun Apr 24 10:16:25 +0800 2016        0                0     0.000000  \n",
       "4   Sun Apr 24 10:14:57 +0800 2016        0          18.2273     0.000000  \n",
       "6   Sun Apr 24 10:12:00 +0800 2016        0                0     0.000000  \n",
       "7   Sun Apr 24 10:08:31 +0800 2016        1            26.75     0.000230  \n",
       "8   Sun Apr 24 10:07:08 +0800 2016        0                0     0.000000  \n",
       "9   Sun Apr 24 10:06:34 +0800 2016        0                0     0.000000  \n",
       "11  Sun Apr 24 10:05:03 +0800 2016        0          11.3333     0.000000  \n",
       "12  Sun Apr 24 10:05:03 +0800 2016        2          18.4549     0.004338  \n",
       "14  Sun Apr 24 10:04:28 +0800 2016        1          13.4524     0.004115  "
      ]
     },
     "execution_count": 156,
     "metadata": {},
     "output_type": "execute_result"
    }
   ],
   "source": [
    "cmtData1.head(10)"
   ]
  },
  {
   "cell_type": "markdown",
   "metadata": {},
   "source": [
    "Three groups after clustering everything:\n",
    "1. Low likes, low reposts etc\n",
    "2. High likes, high reposts (36 posts)\n",
    "3. Extremely high engagement. Is this group real? need more data.\n",
    "\n",
    "### 7. Examine the correlation between average length in comments with reach"
   ]
  },
  {
   "cell_type": "code",
   "execution_count": 158,
   "metadata": {
    "collapsed": false
   },
   "outputs": [
    {
     "data": {
      "text/plain": [
       "<matplotlib.text.Text at 0x11268a090>"
      ]
     },
     "execution_count": 158,
     "metadata": {},
     "output_type": "execute_result"
    },
    {
     "data": {
      "image/png": "[encoded data removed]",
      "text/plain": [
       "<matplotlib.figure.Figure at 0x11263df50>"
      ]
     },
     "metadata": {},
     "output_type": "display_data"
    }
   ],
   "source": [
    "fig, ax = plt.subplots(figsize = (10, 10))\n",
    "# ax.set_color_cycle(colors)\n",
    "ax.margins(0.05)\n",
    "\n",
    "# plt.xlim(0, 0.3)\n",
    "plt.ylim(0, 100)\n",
    "\n",
    "plt.plot(cmtData1.repostNo, cmtData1.commentAveLength, 'o')\n",
    "lines = plt.plot(centroids[i, 0], centroids[i, 1], 'kx')\n",
    "\n",
    "plt.xlabel('Number of reposts')\n",
    "plt.ylabel('Average number of words in comments')\n",
    "plt.title('Comment length and repost behavior')\n"
   ]
  },
  {
   "cell_type": "code",
   "execution_count": 160,
   "metadata": {
    "collapsed": false
   },
   "outputs": [
    {
     "data": {
      "text/plain": [
       "<matplotlib.text.Text at 0x11799d910>"
      ]
     },
     "execution_count": 160,
     "metadata": {},
     "output_type": "execute_result"
    },
    {
     "data": {
      "image/png": "[encoded data removed]",
      "text/plain": [
       "<matplotlib.figure.Figure at 0x117931cd0>"
      ]
     },
     "metadata": {},
     "output_type": "display_data"
    }
   ],
   "source": [
    "fig, ax = plt.subplots(figsize = (10, 10))\n",
    "# ax.set_color_cycle(colors)\n",
    "ax.margins(0.05)\n",
    "\n",
    "# plt.xlim(0, 0.3)\n",
    "plt.ylim(0, 100)\n",
    "\n",
    "plt.plot(cmtData1.likeNo, cmtData1.commentAveLength, 'o')\n",
    "lines = plt.plot(centroids[i, 0], centroids[i, 1], 'kx')\n",
    "\n",
    "plt.xlabel('Number of reposts')\n",
    "plt.ylabel('Average number of words in comments')\n",
    "plt.title('Comment length and repost behavior')\n"
   ]
  },
  {
   "cell_type": "code",
   "execution_count": null,
   "metadata": {
    "collapsed": true
   },
   "outputs": [],
   "source": []
  }
 ],
 "metadata": {
  "kernelspec": {
   "display_name": "Python 2",
   "language": "python",
   "name": "python2"
  },
  "language_info": {
   "codemirror_mode": {
    "name": "ipython",
    "version": 2
   },
   "file_extension": ".py",
   "mimetype": "text/x-python",
   "name": "python",
   "nbconvert_exporter": "python",
   "pygments_lexer": "ipython2",
   "version": "2.7.11"
  }
 },
 "nbformat": 4,
 "nbformat_minor": 0
}
